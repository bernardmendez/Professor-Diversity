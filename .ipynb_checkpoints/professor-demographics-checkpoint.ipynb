{
 "cells": [
  {
   "cell_type": "code",
   "execution_count": 24,
   "metadata": {},
   "outputs": [],
   "source": [
    "#imports\n",
    "import csv\n",
    "import pandas as pd\n",
    "import numpy as np\n",
    "import re\n",
    "import os.path"
   ]
  },
  {
   "cell_type": "code",
   "execution_count": 30,
   "metadata": {},
   "outputs": [],
   "source": [
    "#default values\n",
    "categories = ['Year', 'F', 'M', 'AI', 'A', 'B', 'L', 'TW', 'U', 'W', 'T']\n",
    "titles = ['Female', 'Male', 'American Indian','Asian','Black','Latino','2+','Unknown','White','Total']\n",
    "years = ['2010-2011','2011-2012','2012-2013', '2013-2014', '2014-2015', '2015-2016', '2016-2017', '2017-2018', '2018-2019'];\n",
    "CA = [.503, .477, 0.003535221529612755, 0.14278615925614668, 0.05544641211043411, 0.3875001741150409, 0.02924783815815197, 0.002404801270671688, 0.3790793935599419, 1]"
   ]
  },
  {
   "cell_type": "code",
   "execution_count": 26,
   "metadata": {},
   "outputs": [
    {
     "name": "stdout",
     "output_type": "stream",
     "text": [
      "Using ../the-stack/datasets/professor-demographics/professor-demographics.csv\n",
      "\n"
     ]
    }
   ],
   "source": [
    "#class definition\n",
    "class department:\n",
    "        \n",
    "    def getPercentage(self):\n",
    "        percentage = pd.DataFrame(index = ['% of Total'])\n",
    "        for a in range (len (titles)):\n",
    "            total = self.data.iloc[8,9]\n",
    "            if (total == 0):\n",
    "                percent = 0\n",
    "            else:\n",
    "                percent = self.data.iloc[8,a] / total\n",
    "            percentage[titles[a]] = [percent]\n",
    "        return percentage\n",
    "    \n",
    "    def getStd(self):\n",
    "        std = pd.DataFrame(index = [self.name])\n",
    "        std = 0;\n",
    "        for a in range (len (titles)):\n",
    "             std += (np.std([self.percent.iloc[0, a], CA[a]]))\n",
    "        #std = (self.percent.iloc[0, 2] + self.percent.iloc[0, 4] + self.percent.iloc[0, 5])\n",
    "        return std\n",
    "    \n",
    "    def __init__(self, name, data):\n",
    "        self.name = name\n",
    "        self.data = data\n",
    "        self.percent = self.getPercentage()\n",
    "        self.std = self.getStd()\n",
    "        self.total = self.data.iloc[8, 9]\n",
    "        \n",
    "    def __repr__(self):\n",
    "        return repr((self.name, self.data, self.percent))\n",
    "        \n",
    "    \n",
    "    def print(self):\n",
    "        print(self.name)\n",
    "        print(self.data)\n",
    "        print()\n",
    "        print('Percent')\n",
    "        print(self.percent)"
   ]
  },
  {
   "cell_type": "code",
   "execution_count": 28,
   "metadata": {},
   "outputs": [],
   "source": [
    "#importing file\n",
    "file = ''\n",
    "defaultfile = '../the-stack/datasets/professor-demographics/professor-demographics.csv'\n",
    "backupfile = 'professor-demographics.csv'\n",
    "if os.path.isfile(defaultfile):\n",
    "    file = defaultfile\n",
    "elif os.path.isfile(backupfile):\n",
    "    file = backupfile\n",
    "else:\n",
    "    file = input('The correct file does\\'t seem to exist. Please manually enter in your file: ')\n",
    "    \n",
    "print('Using ' + file)\n",
    "print()"
   ]
  },
  {
   "cell_type": "code",
   "execution_count": null,
   "metadata": {},
   "outputs": [],
   "source": [
    "#loading info from file into department class\n",
    "raw = []\n",
    "with open(file, newline='') as csvfile:\n",
    "    reader = csv.DictReader(csvfile)\n",
    "    for row in reader:\n",
    "        raw.append(row)\n",
    "\n",
    "all = []\n",
    "deptQuantity = int(len(raw) / 10)\n",
    "\n",
    "for a in range (deptQuantity):\n",
    "    sectionData = pd.DataFrame(index = years)\n",
    "    for c in range (1, len(categories)): #categories\n",
    "        temp = []\n",
    "        for b in range (1, 10): # years\n",
    "            if (raw[a*10+b][categories[c]] == ''):\n",
    "                temp.append(0)\n",
    "            else:\n",
    "                temp.append(float(raw[a*10 + b][categories[c]]))\n",
    "        sectionData[titles[c-1]] = temp\n",
    "    \n",
    "    \n",
    "    name = raw[a * 10]['Year']\n",
    "    new = department(name, sectionData)\n",
    "    all.append(new)"
   ]
  },
  {
   "cell_type": "code",
   "execution_count": 29,
   "metadata": {},
   "outputs": [
    {
     "name": "stdout",
     "output_type": "stream",
     "text": [
      "AFRICAN AMERICAN STUDIES\n",
      "           Female  Male  American Indian  Asian  Black  Latino   2+  Unknown  \\\n",
      "2010-2011     1.0   1.5              0.0    0.0    1.5     0.5  0.0      0.0   \n",
      "2011-2012     2.0   0.5              0.0    0.0    2.0     0.0  0.0      0.0   \n",
      "2012-2013     2.5   1.0              0.0    0.0    3.0     0.0  0.0      0.5   \n",
      "2013-2014     2.0   0.0              0.0    0.0    1.5     0.0  0.0      0.5   \n",
      "2014-2015     1.5   1.5              0.0    0.0    2.5     0.0  0.0      0.5   \n",
      "2015-2016     2.0   2.0              0.0    0.0    4.0     0.0  0.0      0.0   \n",
      "2016-2017     3.3   4.8              0.0    0.3    7.3     0.0  0.0      0.5   \n",
      "2017-2018     4.3   5.3              0.0    0.3    8.3     0.0  0.0      0.5   \n",
      "2018-2019     4.8   5.3              0.0    0.3    6.8     1.0  1.0      0.5   \n",
      "\n",
      "           White  Total  \n",
      "2010-2011    0.5    2.5  \n",
      "2011-2012    0.5    2.5  \n",
      "2012-2013    0.0    3.5  \n",
      "2013-2014    0.0    2.0  \n",
      "2014-2015    0.0    3.0  \n",
      "2015-2016    0.0    4.0  \n",
      "2016-2017    0.0    8.0  \n",
      "2017-2018    0.5    9.5  \n",
      "2018-2019    0.0   10.0  \n",
      "\n",
      "Percent\n",
      "            Female  Male  American Indian  Asian  Black  Latino   2+  Unknown  \\\n",
      "% of Total    0.48  0.53              0.0   0.03   0.68     0.1  0.1     0.05   \n",
      "\n",
      "            White  Total  \n",
      "% of Total    0.0    1.0  \n",
      "10.0\n"
     ]
    }
   ],
   "source": [
    "# test printing\n",
    "all[2].print()\n",
    "print(all[2].total)"
   ]
  },
  {
   "cell_type": "code",
   "execution_count": 17,
   "metadata": {},
   "outputs": [
    {
     "name": "stdout",
     "output_type": "stream",
     "text": [
      "Empty DataFrame\n",
      "Columns: []\n",
      "Index: []\n"
     ]
    }
   ],
   "source": [
    "stdData = pd.DataFrame()\n",
    "for a in range (len (all)):\n",
    "    stdData.append([all[a].std, all[a].name, all[a].total])\n",
    "print(stdData)\n"
   ]
  },
  {
   "cell_type": "code",
   "execution_count": 6,
   "metadata": {},
   "outputs": [
    {
     "name": "stdout",
     "output_type": "stream",
     "text": [
      "[2, 3, 10]\n"
     ]
    }
   ],
   "source": [
    "a = [10,2,3]\n",
    "a.sort()\n",
    "print(a)"
   ]
  },
  {
   "cell_type": "code",
   "execution_count": 25,
   "metadata": {},
   "outputs": [
    {
     "name": "stdout",
     "output_type": "stream",
     "text": [
      "38982847\n",
      "[0.003535221529612755, 0.14278615925614668, 0.05544641211043411, 0.3875001741150409, 0.02924783815815197, 0.002404801270671688, 0.3790793935599419]\n",
      "1.0\n"
     ]
    }
   ],
   "source": [
    "# White 72.1%\n",
    "\n",
    "# Female 50.3%\n",
    "# Male 49.7%\n",
    "\n",
    "# Black or African American 6.5%\n",
    "# American Indian and Alaska 1.6%\n",
    "# Asian 15.3%\n",
    "# Native Hawaiian and Other Pacific Islander 0.5%\n",
    "# Two or More Races 3.9%\n",
    "# Hispanic or Latino 39.3%\n",
    "# White 36.8%\n",
    "\n",
    "# titles = ['Female', 'Male', 'American Indian','Asian','Black','Latino','2+','Unknown','White','Total']\n",
    "# CA = [50.3, 49.7, 2.1, 15.3, 6.5, 39.3, 3.9, 36.8]\n",
    "\n",
    "# https://factfinder.census.gov/faces/tableservices/jsf/pages/productview.xhtml?src=bkmk\n",
    "# Total 38,982,847\n",
    "# White 14,777,594\n",
    "# Black 2,161,459\n",
    "# American Indian 137,813\n",
    "# Asian or Native Hawaiian (5,427,928 + 138,283)\n",
    "# Two or more 1,140,164\n",
    "# Other 93,746\n",
    "# Hispanic 15,105,860\n",
    "# tot = [137813, (5427928 + 138283), 14777594, 15105860, 1140164, 23876987]\n",
    "tot = [137813, (5427928 + 138283), 2161459, 15105860, 1140164, 93746, 14777594]\n",
    "print(sum(tot))\n",
    "for a in range (0, len(tot)):\n",
    "    tot[a] = tot[a] / 38982847\n",
    "print(tot)\n",
    "CA = [0.003535221529612755, 0.14278615925614668, 0.05544641211043411, 0.3875001741150409, 0.02924783815815197, 0.002404801270671688, 0.3790793935599419]\n",
    "print(sum(CA))"
   ]
  },
  {
   "cell_type": "code",
   "execution_count": 28,
   "metadata": {},
   "outputs": [
    {
     "name": "stdout",
     "output_type": "stream",
     "text": [
      "0.0\n"
     ]
    }
   ],
   "source": [
    "print(statistics.stdev([1, 1]))"
   ]
  },
  {
   "cell_type": "code",
   "execution_count": 36,
   "metadata": {},
   "outputs": [
    {
     "name": "stdout",
     "output_type": "stream",
     "text": [
      "% of Total    0.392618\n",
      "Name: Female, dtype: float64\n"
     ]
    }
   ],
   "source": [
    "print(all[0].percent[titles[0]])"
   ]
  },
  {
   "cell_type": "code",
   "execution_count": 43,
   "metadata": {},
   "outputs": [
    {
     "data": {
      "text/plain": [
       "51.3"
      ]
     },
     "execution_count": 43,
     "metadata": {},
     "output_type": "execute_result"
    }
   ],
   "source": [
    "CA[0] + 1"
   ]
  },
  {
   "cell_type": "code",
   "execution_count": 7,
   "metadata": {},
   "outputs": [
    {
     "name": "stdout",
     "output_type": "stream",
     "text": [
      "File not exist\n"
     ]
    }
   ],
   "source": [
    "\n"
   ]
  },
  {
   "cell_type": "code",
   "execution_count": null,
   "metadata": {},
   "outputs": [],
   "source": []
  }
 ],
 "metadata": {
  "kernelspec": {
   "display_name": "Python 3",
   "language": "python",
   "name": "python3"
  },
  "language_info": {
   "codemirror_mode": {
    "name": "ipython",
    "version": 3
   },
   "file_extension": ".py",
   "mimetype": "text/x-python",
   "name": "python",
   "nbconvert_exporter": "python",
   "pygments_lexer": "ipython3",
   "version": "3.8.0"
  }
 },
 "nbformat": 4,
 "nbformat_minor": 2
}
