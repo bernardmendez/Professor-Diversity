{
 "cells": [
  {
   "cell_type": "code",
   "execution_count": 1,
   "metadata": {},
   "outputs": [],
   "source": [
    "import pandas as pd"
   ]
  },
  {
   "cell_type": "code",
   "execution_count": 23,
   "metadata": {},
   "outputs": [
    {
     "data": {
      "text/html": [
       "<div>\n",
       "<style scoped>\n",
       "    .dataframe tbody tr th:only-of-type {\n",
       "        vertical-align: middle;\n",
       "    }\n",
       "\n",
       "    .dataframe tbody tr th {\n",
       "        vertical-align: top;\n",
       "    }\n",
       "\n",
       "    .dataframe thead th {\n",
       "        text-align: right;\n",
       "    }\n",
       "</style>\n",
       "<table border=\"1\" class=\"dataframe\">\n",
       "  <thead>\n",
       "    <tr style=\"text-align: right;\">\n",
       "      <th></th>\n",
       "      <th>Year</th>\n",
       "      <th>F</th>\n",
       "      <th>M</th>\n",
       "      <th>AI</th>\n",
       "      <th>A</th>\n",
       "      <th>B</th>\n",
       "      <th>L</th>\n",
       "      <th>TW</th>\n",
       "      <th>U</th>\n",
       "      <th>W</th>\n",
       "      <th>T</th>\n",
       "      <th>Unnamed: 11</th>\n",
       "    </tr>\n",
       "  </thead>\n",
       "  <tbody>\n",
       "    <tr>\n",
       "      <th>0</th>\n",
       "      <td>ALL</td>\n",
       "      <td>Female</td>\n",
       "      <td>Male</td>\n",
       "      <td>American Indian</td>\n",
       "      <td>Asian</td>\n",
       "      <td>Black</td>\n",
       "      <td>Latino</td>\n",
       "      <td>2+</td>\n",
       "      <td>Unknown</td>\n",
       "      <td>White</td>\n",
       "      <td>Total</td>\n",
       "      <td>NaN</td>\n",
       "    </tr>\n",
       "    <tr>\n",
       "      <th>1</th>\n",
       "      <td>2010</td>\n",
       "      <td>666.3</td>\n",
       "      <td>1306.3</td>\n",
       "      <td>7.5</td>\n",
       "      <td>310.7</td>\n",
       "      <td>61.3</td>\n",
       "      <td>113.2</td>\n",
       "      <td>0</td>\n",
       "      <td>25.1</td>\n",
       "      <td>1454.8</td>\n",
       "      <td>1972.5</td>\n",
       "      <td>NaN</td>\n",
       "    </tr>\n",
       "    <tr>\n",
       "      <th>2</th>\n",
       "      <td>2011</td>\n",
       "      <td>684.2</td>\n",
       "      <td>1294.1</td>\n",
       "      <td>8.2</td>\n",
       "      <td>328</td>\n",
       "      <td>67.4</td>\n",
       "      <td>118.7</td>\n",
       "      <td>0</td>\n",
       "      <td>17.3</td>\n",
       "      <td>1438.7</td>\n",
       "      <td>1978.3</td>\n",
       "      <td>NaN</td>\n",
       "    </tr>\n",
       "    <tr>\n",
       "      <th>3</th>\n",
       "      <td>2012</td>\n",
       "      <td>700.4</td>\n",
       "      <td>1279.5</td>\n",
       "      <td>8.5</td>\n",
       "      <td>341.8</td>\n",
       "      <td>72.2</td>\n",
       "      <td>120.7</td>\n",
       "      <td>0</td>\n",
       "      <td>17.7</td>\n",
       "      <td>1418.9</td>\n",
       "      <td>1979.9</td>\n",
       "      <td>NaN</td>\n",
       "    </tr>\n",
       "    <tr>\n",
       "      <th>4</th>\n",
       "      <td>2013</td>\n",
       "      <td>698.1</td>\n",
       "      <td>1281</td>\n",
       "      <td>13.4</td>\n",
       "      <td>343.2</td>\n",
       "      <td>64.8</td>\n",
       "      <td>121.4</td>\n",
       "      <td>0</td>\n",
       "      <td>19.3</td>\n",
       "      <td>1417.1</td>\n",
       "      <td>1979.2</td>\n",
       "      <td>NaN</td>\n",
       "    </tr>\n",
       "  </tbody>\n",
       "</table>\n",
       "</div>"
      ],
      "text/plain": [
       "   Year       F       M               AI      A      B       L  TW        U  \\\n",
       "0   ALL  Female    Male  American Indian  Asian  Black  Latino  2+  Unknown   \n",
       "1  2010   666.3  1306.3              7.5  310.7   61.3   113.2   0     25.1   \n",
       "2  2011   684.2  1294.1              8.2    328   67.4   118.7   0     17.3   \n",
       "3  2012   700.4  1279.5              8.5  341.8   72.2   120.7   0     17.7   \n",
       "4  2013   698.1    1281             13.4  343.2   64.8   121.4   0     19.3   \n",
       "\n",
       "        W       T  Unnamed: 11  \n",
       "0   White   Total          NaN  \n",
       "1  1454.8  1972.5          NaN  \n",
       "2  1438.7  1978.3          NaN  \n",
       "3  1418.9  1979.9          NaN  \n",
       "4  1417.1  1979.2          NaN  "
      ]
     },
     "execution_count": 23,
     "metadata": {},
     "output_type": "execute_result"
    }
   ],
   "source": [
    "data = pd.read_csv('professor-demographics-updated copy.csv')\n",
    "data.head()"
   ]
  },
  {
   "cell_type": "code",
   "execution_count": 25,
   "metadata": {},
   "outputs": [
    {
     "data": {
      "text/plain": [
       "\"['ALL', 'AEROSPACE STUDIES', 'AFRICAN AMERICAN STUDIES', 'AMERICAN INDIAN STUDIES', 'ANDERSON', 'ANTHROPOLOGY', 'ARCHITECTURE & URBAN DESIGN', 'ARCHAEOLOGY', 'ART', 'ART HISTORY', 'ASIAN AMERICAN STUDIES', 'ASIAN LANGUAGES AND CULTURES', 'ATMOSPHERIC AND OCEANIC SCIENCES', 'BIOENGINEERING', 'BIOSTATISTICS', 'CENTER FOR JEWISH STUDIES', 'CHEMICAL AND BIOMOLECULAR ENGINEERING', 'CHEMISTRY AND BIOCHEMISTRY', 'CHICANA/O STUDIES', 'CIVIL & ENVIORNMENTAL ENGR', 'CLASSICS', 'COMMUNICATION STUDIES', 'COMMUNITY HEALTH SCIENCES', 'COMPARATIVE LITERATURE', 'COMPUTER SCIENCE', 'DENTISTRY', 'DESIGN | MEDIA ARTS', 'EARTH, PLANETARY & SPACE SCIENCES (EPSS)', 'ECOLOGY & EVOL BIOLOGY', 'ECONOMICS', 'EDUCATION', 'EDUCATIONAL INITIATIVES', 'ELECTRICAL AND COMPUTER ENGINEERING', 'ENGLISH', 'ENVIRONMENTAL HEALTH SCIENCES', 'EPIDEMIOLOGY', 'ETHNOMUSICOLOGY', 'FILM, TV, & DIGITAL MEDIA', 'FRENCH AND FRANCOPHONE STUDIES', 'GENDER STUDIES', 'GEOGRAPHY', 'GERMANIC LANGUAGES', 'HEALTH POLICY & MANAGEMENT', 'HISTORY', 'HONORS PROGRAMS', 'INDO-EUROPEAN STUDIES', 'INFORMATION STUDIES', 'INST FOR RES ON LABOR & EMPLOYMENT', 'INST FOR SOCIETY & GENETICS', 'INST OF ENVIRON & SUSTAINABILITY', 'INT BIOLOGY & PHYSIOLOGY', 'ITALIAN', 'LAW', 'LESBIAN, GAY & BISEXUAL STUDIES', 'LIFE SCIENCES CORE CRCLM PRGM', 'LINGUISTICS', 'MATERIALS SCIENCE & ENGR (MSE)', 'MATHEMATICS', 'MECHANICAL & AEROSPACE ENGR (MANE)', 'MICROBIOLOGY, IMMUNOLOGY & MOLECULAR GENETICS (MIMG)', 'MILITARY SCIENCE', 'MINOR IN BIOMEDICAL RESEARCH', 'MOLECULAR, CELL & DEVELOP BIOLOGY (MCDB)', 'MUSIC', 'MUSICOLOGY', 'NAVAL SCIENCE', 'NEUROSCIENCE INTERDEPARTMENTAL PROG', 'NR EASTERN LANGS & CULTURES', 'NURSING', 'OCCUPATIONAL & ENVTL HEALTH CNTR (CTR O&EH)', 'PHILOSOPHY', 'PHYSICS & ASTRONOMY', 'POLITICAL SCIENCE', 'PROGRAM IN COMPUTING', 'PSYCHOLOGY', 'PUBLIC HEALTH', 'PUBLIC POLICY', 'SCANDANAVIAN SECTION', 'SLAVIC, EAST EUROPEAN & EURASIAN LANGS', 'SOCIAL WELFARE', 'SOCIOLOGY', 'SPANISH & PORTUGUESE', 'STATISTICS', 'STUDY OF RELIGION', 'THEATER', 'URBAN PLANNING', 'WORLD ARTS & CULTURES/DANCE', 'WRITING PROGRAM', \""
      ]
     },
     "execution_count": 25,
     "metadata": {},
     "output_type": "execute_result"
    }
   ],
   "source": [
    "temp_string = '['\n",
    "for a in range (int(len(data)/10)):\n",
    "    temp_string += \"'\" + (data.iloc[a*10]['Year']).upper() + \"', \"\n",
    "temp_string"
   ]
  },
  {
   "cell_type": "code",
   "execution_count": null,
   "metadata": {},
   "outputs": [],
   "source": []
  }
 ],
 "metadata": {
  "kernelspec": {
   "display_name": "Python 3",
   "language": "python",
   "name": "python3"
  },
  "language_info": {
   "codemirror_mode": {
    "name": "ipython",
    "version": 3
   },
   "file_extension": ".py",
   "mimetype": "text/x-python",
   "name": "python",
   "nbconvert_exporter": "python",
   "pygments_lexer": "ipython3",
   "version": "3.8.0"
  }
 },
 "nbformat": 4,
 "nbformat_minor": 2
}
