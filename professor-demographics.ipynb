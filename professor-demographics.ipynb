{
 "cells": [
  {
   "cell_type": "code",
   "execution_count": 114,
   "metadata": {},
   "outputs": [
    {
     "name": "stdout",
     "output_type": "stream",
     "text": [
      "AFRICAN AMERICAN STUDIES\n",
      "           Female  Male  American Indian  Asian  Black  Latino   2+  Unknown  \\\n",
      "2010-2011     1.0   1.5              0.0    0.0    1.5     0.5  0.0      0.0   \n",
      "2011-2012     2.0   0.5              0.0    0.0    2.0     0.0  0.0      0.0   \n",
      "2012-2013     2.5   1.0              0.0    0.0    3.0     0.0  0.0      0.5   \n",
      "2013-2014     2.0   0.0              0.0    0.0    1.5     0.0  0.0      0.5   \n",
      "2014-2015     1.5   1.5              0.0    0.0    2.5     0.0  0.0      0.5   \n",
      "2015-2016     2.0   2.0              0.0    0.0    4.0     0.0  0.0      0.0   \n",
      "2016-2017     3.3   4.8              0.0    0.3    7.3     0.0  0.0      0.5   \n",
      "2017-2018     4.3   5.3              0.0    0.3    8.3     0.0  0.0      0.5   \n",
      "2018-2019     4.8   5.3              0.0    0.3    6.8     1.0  1.0      0.5   \n",
      "\n",
      "           White  Total  \n",
      "2010-2011    0.5    2.5  \n",
      "2011-2012    0.5    2.5  \n",
      "2012-2013    0.0    3.5  \n",
      "2013-2014    0.0    2.0  \n",
      "2014-2015    0.0    3.0  \n",
      "2015-2016    0.0    4.0  \n",
      "2016-2017    0.0    8.0  \n",
      "2017-2018    0.5    9.5  \n",
      "2018-2019    0.0   10.0  \n",
      "\n",
      "Percent\n",
      "            Female  Male  American Indian  Asian  Black  Latino   2+  Unknown  \\\n",
      "% of Total    0.48  0.53              0.0   0.03   0.68     0.1  0.1     0.05   \n",
      "\n",
      "            White  Total  \n",
      "% of Total    0.0    1.0  \n",
      "10.0\n",
      "[{'data': 0.11207435874519617, 'name': 'ALL', 'total': 2237.8}, {'data': 0, 'name': 'AEROSPACE STUDIES', 'total': 0.0}, {'data': 0.7799999999999999, 'name': 'AFRICAN AMERICAN STUDIES', 'total': 10.0}, {'data': 0.0, 'name': 'AMERICAN INDIAN STUDIES', 'total': 1.0}, {'data': 0.09396551724137932, 'name': 'ANDERSON', 'total': 116.0}, {'data': 0.15873015873015875, 'name': 'ANTHROPOLOGY', 'total': 37.8}, {'data': 0.06472491909385114, 'name': 'ARCHITECTURE & URBAN DESIGN', 'total': 30.9}, {'data': 0, 'name': 'ARCHAEOLOGY', 'total': 0.0}, {'data': 0.12432432432432433, 'name': 'ART', 'total': 18.5}, {'data': 0.08125, 'name': 'ART HISTORY', 'total': 16.0}, {'data': 0.0, 'name': 'ASIAN AMERICAN STUDIES', 'total': 12.0}, {'data': 0.0, 'name': 'ASIAN LANGUAGES AND CULTURES', 'total': 46.9}, {'data': 0.028089887640449437, 'name': 'ATMOSPHERIC AND OCEANIC SCIENCES', 'total': 17.8}, {'data': 0.0, 'name': 'BIOENGINEERING', 'total': 12.7}, {'data': 0.07692307692307693, 'name': 'BIOENGINEERING', 'total': 13.0}, {'data': 0.07692307692307693, 'name': 'BIOSTATISTICS', 'total': 13.0}, {'data': 0, 'name': 'CA CENTER FOR POPULATION RESEARCH', 'total': 0.0}, {'data': 0.3333333333333333, 'name': 'CANCER PREVENTION & CONTROL RES', 'total': 3.0}, {'data': 0.0, 'name': 'CANCER PREVENTION & CONTROL RES', 'total': 0.5}, {'data': 0.07874015748031496, 'name': 'CHEMICAL AND BIOMOLECULAR ENGINEERING', 'total': 12.7}, {'data': 0.04975124378109453, 'name': 'CHEMISTRY AND BIOCHEMISTRY', 'total': 60.3}, {'data': 0.9813664596273292, 'name': 'CHICANA/O STUDIES', 'total': 16.1}, {'data': 1.0, 'name': 'CHICANO STUDIES RESEARCH CENTER', 'total': 1.0}, {'data': 0.08403361344537814, 'name': 'Civil & Enviornmental Engr', 'total': 23.8}, {'data': 0.06289308176100629, 'name': 'Classics', 'total': 15.9}, {'data': 0.0, 'name': 'Communication Studies', 'total': 19.6}, {'data': 0.2155688622754491, 'name': 'Community Health Sciences', 'total': 16.7}, {'data': 0.07017543859649122, 'name': 'Comparative Literature', 'total': 11.4}, {'data': 0.0, 'name': 'Computer Science', 'total': 37.6}, {'data': 0.0, 'name': 'Dean, Div of Humanities', 'total': 1.0}, {'data': 0.0, 'name': 'Dean, GSE&IS', 'total': 1.0}, {'data': 0.0, 'name': 'Dean, HSSEAS', 'total': 3.4}, {'data': 0.0, 'name': 'Dean, LSPA', 'total': 1.7}, {'data': 0.0, 'name': 'Dean, STFT', 'total': 1.0}, {'data': 0.0, 'name': 'Dental Clinic', 'total': 1.7}, {'data': 0.0, 'name': 'Dental Clinic-Off Campus', 'total': 2.6}, {'data': 0.0, 'name': 'Dental Research Inst', 'total': 1.0}, {'data': 0.08933717579250722, 'name': 'Dentistry', 'total': 104.1}, {'data': 0.07142857142857142, 'name': 'Design | Media Arts', 'total': 14.0}, {'data': 0, 'name': 'Duchenne Musc Dyst Research Cntr (DMD Center)', 'total': 0.0}, {'data': 0.0, 'name': 'Earth, Planetary & Space Sciences (EPSS)', 'total': 24.2}, {'data': 0.09036144578313252, 'name': 'Ecology & Evol Biology', 'total': 33.2}, {'data': 0.11312217194570134, 'name': 'Economics', 'total': 44.2}, {'data': 0.3200568990042674, 'name': 'Education', 'total': 70.3}, {'data': 0.0, 'name': 'Educational Initiatives', 'total': 3.1}, {'data': 0.007751937984496124, 'name': 'Electrical and Computer Engineering', 'total': 51.6}, {'data': 0.15639810426540285, 'name': 'English', 'total': 63.3}, {'data': 0.11363636363636363, 'name': 'Environmental Health Sciences', 'total': 8.8}, {'data': 0.0875, 'name': 'Epidemiology', 'total': 16.0}, {'data': 0.40239043824701193, 'name': 'Ethnomusicology', 'total': 25.1}, {'data': 0.13819095477386936, 'name': 'Film, TV, & Digital Media', 'total': 39.8}, {'data': 0, 'name': 'Fowler Museum', 'total': 0.0}, {'data': 0.0847457627118644, 'name': 'French and Francophone Studies', 'total': 11.8}, {'data': 0.2088607594936709, 'name': 'Gender Studies', 'total': 15.8}, {'data': 0.0784313725490196, 'name': 'Geography', 'total': 25.5}, {'data': 0.056818181818181816, 'name': 'Germanic Languages', 'total': 8.8}, {'data': 0.0, 'name': 'Getty Convservation Program', 'total': 1.0}, {'data': 0.05963302752293578, 'name': 'Health Policy & Management', 'total': 21.8}, {'data': 0.0, 'name': 'Health Policy Research Center', 'total': 1.0}, {'data': 0.109375, 'name': 'History', 'total': 64.0}, {'data': 0.0, 'name': 'Honors Programs', 'total': 1.5}, {'data': 0.0, 'name': 'Indo-European Studies', 'total': 1.7}, {'data': 0.0787878787878788, 'name': 'Information Studies', 'total': 16.5}, {'data': 0.0, 'name': 'Institute for Pure & Applied Math', 'total': 1.0}, {'data': 0.4, 'name': 'Inst for Res on Labor & Employment', 'total': 2.5}, {'data': 0.0, 'name': 'Inst for Society & Genetics', 'total': 9.2}, {'data': 0, 'name': 'Inst for Technology Advancement', 'total': 0}, {'data': 0.12, 'name': 'Inst for Environ & Sustainability', 'total': 12.5}, {'data': 0, 'name': 'Inst for Geophysics & Planetary Physics', 'total': 0.0}, {'data': 0, 'name': 'Institute for Archaeology', 'total': 0}, {'data': 0.12244897959183673, 'name': 'Int Biology & Physiology', 'total': 24.5}, {'data': 0.0, 'name': 'Interdepartmental Degree Programs (IDPs)', 'total': 2.0}, {'data': 0, 'name': 'Interdepartmental Program - Social Sciences', 'total': 0}, {'data': 0.0, 'name': 'Italian', 'total': 5.9}, {'data': 0, 'name': 'Joint Inst Reg Earth Syst Sci/Engr (JIFRESSE)', 'total': 0.0}, {'data': 0.11464968152866242, 'name': 'Law', 'total': 94.2}, {'data': 0, 'name': 'Lesbian, Gay & Bisexual Studies', 'total': 0.0}, {'data': 0.0, 'name': 'Life Sciences Core Crclm Prgm', 'total': 7.3}, {'data': 0.10373443983402489, 'name': 'Linguistics', 'total': 24.1}, {'data': 0.0, 'name': 'Luskin Cntr for Innovation', 'total': 1.0}, {'data': 0.07042253521126761, 'name': 'Materials Science & Engr (MSE)', 'total': 14.2}, {'data': 0.026737967914438505, 'name': 'Mathematics', 'total': 93.5}, {'data': 0.0, 'name': 'Mechanical & Aerospace Engr (MANE)', 'total': 38.8}, {'data': 0.03508771929824561, 'name': 'Microbiology, Immunology & Molecular Genetics (MIMG)', 'total': 28.5}, {'data': 0, 'name': 'Military Science', 'total': 0.0}, {'data': 0.3333333333333333, 'name': 'Minor in Biomedical Research', 'total': 3.0}, {'data': 0.14285714285714285, 'name': 'Molecular, Cell & Develop Biology (MCDB)', 'total': 28.0}, {'data': 0.03007518796992481, 'name': 'Music', 'total': 39.9}, {'data': 0.09459459459459459, 'name': 'Musicology', 'total': 14.8}, {'data': 0, 'name': 'Naval Science', 'total': 0.0}, {'data': 0.0, 'name': 'Nazarian Center for Israel Studies (NCIS)', 'total': 0.8}, {'data': 0.0, 'name': 'Neuroscience Interdepartmental Prog', 'total': 0.8}, {'data': 0.0, 'name': 'Nr Eastern Langs & Cultures', 'total': 24.5}, {'data': 0.18136439267886856, 'name': 'Nursing', 'total': 60.1}, {'data': 0.0, 'name': 'Occupational & Envtl Health Cntr (CTR O&EH)', 'total': 2.0}, {'data': 0.0, 'name': 'Philosophy', 'total': 25.5}, {'data': 0.029498525073746312, 'name': 'Physics & Astronomy', 'total': 67.8}, {'data': 0.05518763796909493, 'name': 'Political Science', 'total': 45.3}, {'data': 0.25641025641025644, 'name': 'Program in Computing', 'total': 7.8}, {'data': 0.08262108262108261, 'name': 'Psychology', 'total': 70.2}, {'data': 0.0, 'name': 'Public Health', 'total': 0.8}, {'data': 0.234375, 'name': 'Public Policy', 'total': 12.8}, {'data': 0.0, 'name': 'Scandanavian Section', 'total': 4.0}, {'data': 0, 'name': 'School-wide Programs, LSPA', 'total': 0.0}, {'data': 0.0, 'name': 'Slavic, East European & Eurasian Langs', 'total': 11.7}, {'data': 0.265, 'name': 'Social Welfare', 'total': 20.0}, {'data': 0.18888888888888888, 'name': 'Sociology', 'total': 36.0}, {'data': 0.5316455696202531, 'name': 'Spanish & Portuguese', 'total': 31.6}, {'data': 0.06666666666666667, 'name': 'Statistics', 'total': 22.5}, {'data': 0.0, 'name': 'Study of Religion', 'total': 1.1}, {'data': 0.19540229885057472, 'name': 'Theater', 'total': 34.8}, {'data': 0.10810810810810811, 'name': 'Urban Planning', 'total': 18.5}, {'data': 0.15086206896551724, 'name': 'World Arts & Cultures/Dance', 'total': 23.2}, {'data': 0.09022556390977444, 'name': 'Writing Program', 'total': 39.9}]\n"
     ]
    }
   ],
   "source": [
    "import csv\n",
    "import pandas as pd\n",
    "import numpy as np\n",
    "import re\n",
    "\n",
    "categories = ['Year', 'F', 'M', 'AI', 'A', 'B', 'L', 'TW', 'U', 'W', 'T']\n",
    "titles = ['Female', 'Male', 'American Indian','Asian','Black','Latino','2+','Unknown','White','Total']\n",
    "years = ['2010-2011','2011-2012','2012-2013', '2013-2014', '2014-2015', '2015-2016', '2016-2017', '2017-2018', '2018-2019'];\n",
    "CA = [.503, .477, 0.003535221529612755, 0.14278615925614668, 0.05544641211043411, 0.3875001741150409, 0.02924783815815197, 0.002404801270671688, 0.3790793935599419, 1]\n",
    "\n",
    "\n",
    "class department:\n",
    "        \n",
    "    def getPercentage(self):\n",
    "        percentage = pd.DataFrame(index = ['% of Total'])\n",
    "        for a in range (len (titles)):\n",
    "            total = self.data.iloc[8,9]\n",
    "            if (total == 0):\n",
    "                percent = 0\n",
    "            else:\n",
    "                percent = self.data.iloc[8,a] / total\n",
    "            percentage[titles[a]] = [percent]\n",
    "        return percentage\n",
    "    \n",
    "    def getStd(self):\n",
    "        #std = pd.DataFrame(index = [self.name])\n",
    "#         std = 0;\n",
    "#         for a in range (len (titles)):\n",
    "#             std += (np.std([self.percent.iloc[0, a], CA[a]]))\n",
    "        std = (self.percent.iloc[0, 2] + self.percent.iloc[0, 4] + self.percent.iloc[0, 5])\n",
    "        return std\n",
    "    \n",
    "    def __init__(self, name, data):\n",
    "        self.name = name\n",
    "        self.data = data\n",
    "        self.percent = self.getPercentage()\n",
    "        self.std = self.getStd()\n",
    "        self.total = self.data.iloc[8, 9]\n",
    "        \n",
    "    def __repr__(self):\n",
    "        return repr((self.name, self.data, self.percent))\n",
    "        \n",
    "    \n",
    "    def print(self):\n",
    "        print(self.name)\n",
    "        print(self.data)\n",
    "        print()\n",
    "        print('Percent')\n",
    "        print(self.percent)\n",
    "        \n",
    "\n",
    "        \n",
    "raw = []\n",
    "with open('professor-demographics.csv', newline='') as csvfile:\n",
    "    reader = csv.DictReader(csvfile)\n",
    "    for row in reader:\n",
    "        raw.append(row)\n",
    "\n",
    "all = []\n",
    "deptQuantity = int(len(raw) / 10)\n",
    "\n",
    "for a in range (deptQuantity):\n",
    "    sectionData = pd.DataFrame(index = years)\n",
    "    for c in range (1, len(categories)): #categories\n",
    "        temp = []\n",
    "        for b in range (1, 10): # years\n",
    "            if (raw[a*10+b][categories[c]] == ''):\n",
    "                temp.append(0)\n",
    "            else:\n",
    "                temp.append(float(raw[a*10 + b][categories[c]]))\n",
    "        sectionData[titles[c-1]] = temp\n",
    "    \n",
    "    \n",
    "    name = raw[a * 10]['Year']\n",
    "    new = department(name, sectionData)\n",
    "    all.append(new)\n",
    "\n",
    "\n",
    "# all contains the data and name of all departments\n",
    "\n",
    "all[2].print()\n",
    "print(all[2].total)\n",
    "\n",
    "#print(all[0].std)\n",
    "\n",
    "stdData = []\n",
    "for a in range (len (all)):\n",
    "    stdData.append({'data': all[a].std, 'name': all[a].name, 'total': all[a].total})\n",
    "print(stdData)"
   ]
  },
  {
   "cell_type": "code",
   "execution_count": 106,
   "metadata": {},
   "outputs": [
    {
     "name": "stdout",
     "output_type": "stream",
     "text": [
      "[]\n"
     ]
    }
   ],
   "source": [
    "stdData = []\n",
    "for a in range (len (all)):\n",
    "    stdData.append({'data': all[a].std, 'name': all[a].name, 'total': all[a].total})\n",
    "print(stdData)"
   ]
  },
  {
   "cell_type": "code",
   "execution_count": 6,
   "metadata": {},
   "outputs": [
    {
     "name": "stdout",
     "output_type": "stream",
     "text": [
      "[2, 3, 10]\n"
     ]
    }
   ],
   "source": [
    "a = [10,2,3]\n",
    "a.sort()\n",
    "print(a)"
   ]
  },
  {
   "cell_type": "code",
   "execution_count": 25,
   "metadata": {},
   "outputs": [
    {
     "name": "stdout",
     "output_type": "stream",
     "text": [
      "38982847\n",
      "[0.003535221529612755, 0.14278615925614668, 0.05544641211043411, 0.3875001741150409, 0.02924783815815197, 0.002404801270671688, 0.3790793935599419]\n",
      "1.0\n"
     ]
    }
   ],
   "source": [
    "# White 72.1%\n",
    "\n",
    "# Female 50.3%\n",
    "# Male 49.7%\n",
    "\n",
    "# Black or African American 6.5%\n",
    "# American Indian and Alaska 1.6%\n",
    "# Asian 15.3%\n",
    "# Native Hawaiian and Other Pacific Islander 0.5%\n",
    "# Two or More Races 3.9%\n",
    "# Hispanic or Latino 39.3%\n",
    "# White 36.8%\n",
    "\n",
    "# titles = ['Female', 'Male', 'American Indian','Asian','Black','Latino','2+','Unknown','White','Total']\n",
    "# CA = [50.3, 49.7, 2.1, 15.3, 6.5, 39.3, 3.9, 36.8]\n",
    "\n",
    "# https://factfinder.census.gov/faces/tableservices/jsf/pages/productview.xhtml?src=bkmk\n",
    "# Total 38,982,847\n",
    "# White 14,777,594\n",
    "# Black 2,161,459\n",
    "# American Indian 137,813\n",
    "# Asian or Native Hawaiian (5,427,928 + 138,283)\n",
    "# Two or more 1,140,164\n",
    "# Other 93,746\n",
    "# Hispanic 15,105,860\n",
    "# tot = [137813, (5427928 + 138283), 14777594, 15105860, 1140164, 23876987]\n",
    "tot = [137813, (5427928 + 138283), 2161459, 15105860, 1140164, 93746, 14777594]\n",
    "print(sum(tot))\n",
    "for a in range (0, len(tot)):\n",
    "    tot[a] = tot[a] / 38982847\n",
    "print(tot)\n",
    "CA = [0.003535221529612755, 0.14278615925614668, 0.05544641211043411, 0.3875001741150409, 0.02924783815815197, 0.002404801270671688, 0.3790793935599419]\n",
    "print(sum(CA))"
   ]
  },
  {
   "cell_type": "code",
   "execution_count": 28,
   "metadata": {},
   "outputs": [
    {
     "name": "stdout",
     "output_type": "stream",
     "text": [
      "0.0\n"
     ]
    }
   ],
   "source": [
    "print(statistics.stdev([1, 1]))"
   ]
  },
  {
   "cell_type": "code",
   "execution_count": 36,
   "metadata": {},
   "outputs": [
    {
     "name": "stdout",
     "output_type": "stream",
     "text": [
      "% of Total    0.392618\n",
      "Name: Female, dtype: float64\n"
     ]
    }
   ],
   "source": [
    "print(all[0].percent[titles[0]])"
   ]
  },
  {
   "cell_type": "code",
   "execution_count": 43,
   "metadata": {},
   "outputs": [
    {
     "data": {
      "text/plain": [
       "51.3"
      ]
     },
     "execution_count": 43,
     "metadata": {},
     "output_type": "execute_result"
    }
   ],
   "source": [
    "CA[0] + 1"
   ]
  },
  {
   "cell_type": "code",
   "execution_count": null,
   "metadata": {},
   "outputs": [],
   "source": []
  }
 ],
 "metadata": {
  "kernelspec": {
   "display_name": "Python 3",
   "language": "python",
   "name": "python3"
  },
  "language_info": {
   "codemirror_mode": {
    "name": "ipython",
    "version": 3
   },
   "file_extension": ".py",
   "mimetype": "text/x-python",
   "name": "python",
   "nbconvert_exporter": "python",
   "pygments_lexer": "ipython3",
   "version": "3.8.0"
  }
 },
 "nbformat": 4,
 "nbformat_minor": 2
}
