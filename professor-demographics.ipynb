{
 "cells": [
  {
   "cell_type": "code",
   "execution_count": 196,
   "metadata": {},
   "outputs": [
    {
     "name": "stdout",
     "output_type": "stream",
     "text": [
      "  Female    Male American Indian  Asian Black Latino   2+ Unknown   White  \\\n",
      "0  666.3  1306.3             7.5  310.7  61.3  113.2    0    25.1  1454.8   \n",
      "1  684.2  1294.1             8.2    328  67.4  118.7    0    17.3  1438.7   \n",
      "2  700.4  1279.5             8.5  341.8  72.2  120.7    0    17.7  1418.9   \n",
      "3  698.1    1281            13.4  343.2  64.8  121.4    0    19.3  1417.1   \n",
      "4  731.7  1305.7            11.8  367.6  67.6  123.2    0    24.7  1442.6   \n",
      "5  757.8  1296.2              12  365.4  71.1  129.1    0    31.9  1444.5   \n",
      "6  783.9  1319.1            13.8  382.6  76.3    142  1.6    53.6  1433.2   \n",
      "7  821.3  1346.8            14.6  407.5  83.4  141.7  4.3      83  1433.6   \n",
      "8  878.6  1359.2            13.7  428.2  86.6  150.5  5.9    99.9  1453.1   \n",
      "\n",
      "    Total  \n",
      "0  1972.5  \n",
      "1  1978.3  \n",
      "2  1979.9  \n",
      "3  1979.2  \n",
      "4  2037.4  \n",
      "5  2053.9  \n",
      "6  2103.1  \n",
      "7  2168.1  \n",
      "8  2237.8  \n"
     ]
    }
   ],
   "source": [
    "import csv\n",
    "import pandas as pd\n",
    "\n",
    "class department:        \n",
    "    \n",
    "    def __init__(self, name, data):\n",
    "        self.name = name\n",
    "        self.data = data\n",
    "    \n",
    "    def print(self):\n",
    "        print(self.data) \n",
    "\n",
    "        \n",
    "raw = []\n",
    "with open('professor-demographics.csv', newline='') as csvfile:\n",
    "    reader = csv.DictReader(csvfile)\n",
    "    for row in reader:\n",
    "        raw.append(row)\n",
    "\n",
    "all = []\n",
    "deptQuantity = int(len(raw) / 10)\n",
    "categories = ['Year', 'F', 'M', 'AI', 'A', 'B', 'L', 'TW', 'U', 'W', 'T']\n",
    "titles = ['Female', 'Male', 'American Indian','Asian','Black','Latino','2+','Unknown','White','Total']\n",
    "\n",
    "for a in range (deptQuantity):\n",
    "    sectionData = pd.DataFrame()\n",
    "    for c in range (1, len(categories)): #categories\n",
    "        temp = []\n",
    "        for b in range (1, 10): # years\n",
    "            if (raw[a + b][categories[c]] == 'N/A'):\n",
    "                print('String!')\n",
    "            temp.append(raw[a + b][categories[c]])\n",
    "        sectionData[titles[c-1]] = temp    \n",
    "    \n",
    "    \n",
    "    name = raw[a * 10]['Year']\n",
    "    new = department(name, sectionData)\n",
    "    all.append(new)\n",
    "\n",
    "all[0].print()\n",
    "\n",
    "# all contains the data and name of all departments"
   ]
  },
  {
   "cell_type": "code",
   "execution_count": null,
   "metadata": {},
   "outputs": [],
   "source": []
  },
  {
   "cell_type": "code",
   "execution_count": null,
   "metadata": {},
   "outputs": [],
   "source": []
  }
 ],
 "metadata": {
  "kernelspec": {
   "display_name": "Python 3",
   "language": "python",
   "name": "python3"
  },
  "language_info": {
   "codemirror_mode": {
    "name": "ipython",
    "version": 3
   },
   "file_extension": ".py",
   "mimetype": "text/x-python",
   "name": "python",
   "nbconvert_exporter": "python",
   "pygments_lexer": "ipython3",
   "version": "3.8.0"
  }
 },
 "nbformat": 4,
 "nbformat_minor": 2
}
