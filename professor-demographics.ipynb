{
 "cells": [
  {
   "cell_type": "code",
   "execution_count": 94,
   "metadata": {},
   "outputs": [
    {
     "name": "stdout",
     "output_type": "stream",
     "text": [
      "ALL\n",
      "           Female    Male  American Indian  Asian  Black  Latino   2+  \\\n",
      "2010-2011   666.3  1306.3              7.5  310.7   61.3   113.2  0.0   \n",
      "2011-2012   684.2  1294.1              8.2  328.0   67.4   118.7  0.0   \n",
      "2012-2013   700.4  1279.5              8.5  341.8   72.2   120.7  0.0   \n",
      "2013-2014   698.1  1281.0             13.4  343.2   64.8   121.4  0.0   \n",
      "2014-2015   731.7  1305.7             11.8  367.6   67.6   123.2  0.0   \n",
      "2015-2016   757.8  1296.2             12.0  365.4   71.1   129.1  0.0   \n",
      "2016-2017   783.9  1319.1             13.8  382.6   76.3   142.0  1.6   \n",
      "2017-2018   821.3  1346.8             14.6  407.5   83.4   141.7  4.3   \n",
      "2018-2019   878.6  1359.2             13.7  428.2   86.6   150.5  5.9   \n",
      "\n",
      "           Unknown   White   Total  \n",
      "2010-2011     25.1  1454.8  1972.5  \n",
      "2011-2012     17.3  1438.7  1978.3  \n",
      "2012-2013     17.7  1418.9  1979.9  \n",
      "2013-2014     19.3  1417.1  1979.2  \n",
      "2014-2015     24.7  1442.6  2037.4  \n",
      "2015-2016     31.9  1444.5  2053.9  \n",
      "2016-2017     53.6  1433.2  2103.1  \n",
      "2017-2018     83.0  1433.6  2168.1  \n",
      "2018-2019     99.9  1453.1  2237.8  \n",
      "\n",
      "Percent\n",
      "              Female      Male  American Indian     Asian     Black    Latino  \\\n",
      "% of Total  0.392618  0.607382         0.006122  0.191349  0.038699  0.067254   \n",
      "\n",
      "                  2+   Unknown     White  Total  \n",
      "% of Total  0.002637  0.044642  0.649343    1.0  \n"
     ]
    }
   ],
   "source": [
    "import csv\n",
    "import pandas as pd\n",
    "\n",
    "class department:\n",
    "        \n",
    "    def getPercentage(self):\n",
    "        percentage = pd.DataFrame(index = ['% of Total'])\n",
    "        for a in range (0, len(titles)):\n",
    "            total = self.data.iloc[8,9]\n",
    "            if (total == 0):\n",
    "                percent = 0\n",
    "            else:\n",
    "                percent = self.data.iloc[8,a] / self.data.iloc[8,9]\n",
    "            percentage[titles[a]] = [percent]\n",
    "        return percentage\n",
    "    \n",
    "    def __init__(self, name, data):\n",
    "        self.name = name\n",
    "        self.data = data\n",
    "        self.percent = self.getPercentage()\n",
    "        \n",
    "    def __repr__(self):\n",
    "        return repr((self.name, self.data, self.percent))\n",
    "        \n",
    "    \n",
    "    def print(self):\n",
    "        print(self.name)\n",
    "        print(self.data)\n",
    "        print()\n",
    "        print('Percent')\n",
    "        print(self.percent)\n",
    "        \n",
    "\n",
    "        \n",
    "raw = []\n",
    "with open('professor-demographics.csv', newline='') as csvfile:\n",
    "    reader = csv.DictReader(csvfile)\n",
    "    for row in reader:\n",
    "        raw.append(row)\n",
    "\n",
    "all = []\n",
    "deptQuantity = int(len(raw) / 10)\n",
    "categories = ['Year', 'F', 'M', 'AI', 'A', 'B', 'L', 'TW', 'U', 'W', 'T']\n",
    "titles = ['Female', 'Male', 'American Indian','Asian','Black','Latino','2+','Unknown','White','Total']\n",
    "years = ['2010-2011','2011-2012','2012-2013', '2013-2014', '2014-2015', '2015-2016', '2016-2017', '2017-2018', '2018-2019'];\n",
    "CA = [50.3, 49.7, 2.1, 15.3, 6.5, 39.3, 3.9, 36.8]\n",
    "\n",
    "for a in range (deptQuantity):\n",
    "    sectionData = pd.DataFrame(index = years)\n",
    "    for c in range (1, len(categories)): #categories\n",
    "        temp = []\n",
    "        for b in range (1, 10): # years\n",
    "            if (raw[a*10+b][categories[c]] == ''):\n",
    "                temp.append(0)\n",
    "            else:\n",
    "                temp.append(float(raw[a*10 + b][categories[c]]))\n",
    "        sectionData[titles[c-1]] = temp\n",
    "    \n",
    "    \n",
    "    name = raw[a * 10]['Year']\n",
    "    new = department(name, sectionData)\n",
    "    all.append(new)\n",
    "\n",
    "\n",
    "# all contains the data and name of all departments\n",
    "\n",
    "all[0].print()\n"
   ]
  },
  {
   "cell_type": "code",
   "execution_count": null,
   "metadata": {},
   "outputs": [],
   "source": []
  },
  {
   "cell_type": "code",
   "execution_count": 76,
   "metadata": {},
   "outputs": [
    {
     "name": "stdout",
     "output_type": "stream",
     "text": [
      "[2, 3, 10]\n"
     ]
    }
   ],
   "source": [
    "a = [10,2,3]\n",
    "a.sort()\n",
    "print(a)"
   ]
  },
  {
   "cell_type": "code",
   "execution_count": 92,
   "metadata": {},
   "outputs": [
    {
     "name": "stdout",
     "output_type": "stream",
     "text": [
      "203.89999999999998\n"
     ]
    }
   ],
   "source": [
    "# White 72.1%\n",
    "\n",
    "# Female 50.3%\n",
    "# Male 49.7%\n",
    "\n",
    "# Black or African American 6.5%\n",
    "# American Indian and Alaska 1.6%\n",
    "# Asian 15.3%\n",
    "# Native Hawaiian and Other Pacific Islander 0.5%\n",
    "# Two or More Races 3.9%\n",
    "# Hispanic or Latino 39.3%\n",
    "# White 36.8%\n",
    "\n",
    "# titles = ['Female', 'Male', 'American Indian','Asian','Black','Latino','2+','Unknown','White','Total']\n",
    "# CA = [50.3, 49.7, 2.1, 15.3, 6.5, 39.3, 3.9, 36.8]"
   ]
  },
  {
   "cell_type": "code",
   "execution_count": null,
   "metadata": {},
   "outputs": [],
   "source": []
  }
 ],
 "metadata": {
  "kernelspec": {
   "display_name": "Python 3",
   "language": "python",
   "name": "python3"
  },
  "language_info": {
   "codemirror_mode": {
    "name": "ipython",
    "version": 3
   },
   "file_extension": ".py",
   "mimetype": "text/x-python",
   "name": "python",
   "nbconvert_exporter": "python",
   "pygments_lexer": "ipython3",
   "version": "3.8.0"
  }
 },
 "nbformat": 4,
 "nbformat_minor": 2
}
